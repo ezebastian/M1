{
 "cells": [
  {
   "cell_type": "markdown",
   "metadata": {},
   "source": [
    "# Práctica Clase 2"
   ]
  },
  {
   "cell_type": "markdown",
   "metadata": {},
   "source": [
    "1) Abrir el archivo \"Emisiones_CO2.csv\" y cargar sus datos en un diccionario."
   ]
  },
  {
   "cell_type": "code",
   "execution_count": 81,
   "metadata": {},
   "outputs": [],
   "source": [
    "archivo = open(r'C:\\Users\\sebas\\OneDrive\\Escritorio\\M1\\Clase 02\\Emisiones_CO2.csv')"
   ]
  },
  {
   "cell_type": "code",
   "execution_count": 82,
   "metadata": {},
   "outputs": [],
   "source": [
    "dicc_emisiones = {  'cod_pais' : [],\n",
    "                    'nom_pais' : [],\n",
    "                    'region' : [],\n",
    "                    'anio' : [],\n",
    "                    'co2' : [],\n",
    "                    'co2_percapita' : []}"
   ]
  },
  {
   "cell_type": "code",
   "execution_count": 83,
   "metadata": {},
   "outputs": [],
   "source": [
    "next(archivo)\n",
    "for linea in archivo:\n",
    "    linea = linea.strip()\n",
    "    campos = linea.split('|')\n",
    "    dicc_emisiones['cod_pais'].append(campos[0])\n",
    "    dicc_emisiones['nom_pais'].append(campos[1])\n",
    "    dicc_emisiones['region'].append(campos[2])\n",
    "    dicc_emisiones['anio'].append(campos[3])\n",
    "    dicc_emisiones['co2'].append(campos[4])\n",
    "    dicc_emisiones['co2_percapita'].append(campos[5])"
   ]
  },
  {
   "cell_type": "code",
   "execution_count": 84,
   "metadata": {},
   "outputs": [
    {
     "data": {
      "text/plain": [
       "'Aruba'"
      ]
     },
     "execution_count": 84,
     "metadata": {},
     "output_type": "execute_result"
    }
   ],
   "source": [
    "archivo.close()\n",
    "dicc_emisiones['nom_pais'][3]"
   ]
  },
  {
   "cell_type": "markdown",
   "metadata": {},
   "source": [
    "2) a) ¿Cuántas variables hay? <br>\n",
    "b) ¿Qué tipos de datos usar para cada una? <br>\n",
    "c) ¿Qué tipo de variables son? <br>\n",
    "d) ¿Hay valores faltantes? <br>\n",
    "e) ¿Cuál es el total de emisiones de CO2 para 'América Latina y Caribe' en el año 2010?"
   ]
  },
  {
   "attachments": {},
   "cell_type": "markdown",
   "metadata": {},
   "source": [
    "2.a) Hay 6 variables.\n",
    "  b) Los datos son todos Strings.\n",
    "  c)cod_pais --> cualitativa\n",
    "    nom_pais --> cualitativa\n",
    "    region --> cualitativa\n",
    "    anio --> cualitativa\n",
    "    co2 --> cuantitativa\n",
    "    co2_percapita --> cuantitativa\n",
    "  d) Si hay valores faltantes y lo puedo visualizar en el archivo csv\n",
    "  e)\n"
   ]
  },
  {
   "attachments": {},
   "cell_type": "markdown",
   "metadata": {},
   "source": [
    "2.a)¿Cuántas variables hay?"
   ]
  },
  {
   "cell_type": "code",
   "execution_count": 85,
   "metadata": {},
   "outputs": [
    {
     "data": {
      "text/plain": [
       "6"
      ]
     },
     "execution_count": 85,
     "metadata": {},
     "output_type": "execute_result"
    }
   ],
   "source": [
    "len(dicc_emisiones.keys())"
   ]
  },
  {
   "cell_type": "code",
   "execution_count": 86,
   "metadata": {},
   "outputs": [
    {
     "name": "stdout",
     "output_type": "stream",
     "text": [
      "Hay 6 variables.\n"
     ]
    }
   ],
   "source": [
    "print('Hay', len(dicc_emisiones.keys()), 'variables.')"
   ]
  },
  {
   "attachments": {},
   "cell_type": "markdown",
   "metadata": {},
   "source": [
    "b) ¿Qué tipos de datos usar para cada una?"
   ]
  },
  {
   "cell_type": "code",
   "execution_count": 87,
   "metadata": {},
   "outputs": [
    {
     "data": {
      "text/plain": [
       "dict_keys(['cod_pais', 'nom_pais', 'region', 'anio', 'co2', 'co2_percapita'])"
      ]
     },
     "execution_count": 87,
     "metadata": {},
     "output_type": "execute_result"
    }
   ],
   "source": [
    "dicc_emisiones.keys()"
   ]
  },
  {
   "cell_type": "code",
   "execution_count": 88,
   "metadata": {},
   "outputs": [
    {
     "name": "stdout",
     "output_type": "stream",
     "text": [
      "BHR\n",
      "Baréin\n",
      "Oriente Medio y Norte de África\n",
      "1972\n",
      "3.681,67\n",
      "16,03597749\n"
     ]
    }
   ],
   "source": [
    "for i in dicc_emisiones.values():\n",
    "    print(i[1000])"
   ]
  },
  {
   "cell_type": "code",
   "execution_count": 89,
   "metadata": {},
   "outputs": [
    {
     "name": "stdout",
     "output_type": "stream",
     "text": [
      "<class 'str'>\n",
      "<class 'str'>\n",
      "<class 'str'>\n",
      "<class 'str'>\n",
      "<class 'str'>\n",
      "<class 'str'>\n"
     ]
    }
   ],
   "source": [
    "for i in dicc_emisiones.values():\n",
    "    print(type((i[1000])))"
   ]
  },
  {
   "attachments": {},
   "cell_type": "markdown",
   "metadata": {},
   "source": [
    "Los datos son todos strings."
   ]
  },
  {
   "attachments": {},
   "cell_type": "markdown",
   "metadata": {},
   "source": [
    "c) ¿Qué tipo de variables son?"
   ]
  },
  {
   "cell_type": "markdown",
   "metadata": {},
   "source": [
    "cod_pais --> cualitativa\n",
    "    nom_pais --> cualitativa\n",
    "    region --> cualitativa\n",
    "    anio --> cualitativa\n",
    "    co2 --> cuantitativa\n",
    "    co2_percapita --> cuantitativa"
   ]
  },
  {
   "attachments": {},
   "cell_type": "markdown",
   "metadata": {},
   "source": [
    "d) ¿Hay valores faltantes?"
   ]
  },
  {
   "cell_type": "code",
   "execution_count": 90,
   "metadata": {},
   "outputs": [],
   "source": [
    "for indice, elemento in enumerate(dicc_emisiones['co2']):\n",
    "    elemento = elemento.replace('.','')\n",
    "    elemento = elemento.replace(',','.')\n",
    "    if (elemento != '' ):\n",
    "        elemento = float(elemento)\n",
    "    else:\n",
    "        elemento = None\n",
    "    dicc_emisiones['co2'][indice] = elemento"
   ]
  },
  {
   "cell_type": "code",
   "execution_count": 91,
   "metadata": {},
   "outputs": [],
   "source": [
    "for indice, elemento in enumerate(dicc_emisiones['co2_percapita']):\n",
    "    elemento = elemento.replace('.','')\n",
    "    elemento = elemento.replace(',','.')\n",
    "    if (elemento != '' ):\n",
    "        elemento = float(elemento)\n",
    "    else:\n",
    "        elemento = None\n",
    "    dicc_emisiones['co2_percapita'][indice] = elemento"
   ]
  },
  {
   "cell_type": "code",
   "execution_count": 92,
   "metadata": {},
   "outputs": [
    {
     "name": "stdout",
     "output_type": "stream",
     "text": [
      "BHR\n",
      "Baréin\n",
      "Oriente Medio y Norte de África\n",
      "1972\n",
      "3681.67\n",
      "16.03597749\n"
     ]
    }
   ],
   "source": [
    "for i in dicc_emisiones.values():\n",
    "    print(i[1000])"
   ]
  },
  {
   "cell_type": "code",
   "execution_count": 93,
   "metadata": {},
   "outputs": [
    {
     "name": "stdout",
     "output_type": "stream",
     "text": [
      "<class 'str'>\n",
      "<class 'str'>\n",
      "<class 'str'>\n",
      "<class 'str'>\n",
      "<class 'float'>\n",
      "<class 'float'>\n"
     ]
    }
   ],
   "source": [
    "for i in dicc_emisiones.values():\n",
    "    print(type((i[1000])))"
   ]
  },
  {
   "attachments": {},
   "cell_type": "markdown",
   "metadata": {},
   "source": [
    "d) ¿Hay valores faltantes?"
   ]
  },
  {
   "cell_type": "code",
   "execution_count": 95,
   "metadata": {},
   "outputs": [
    {
     "name": "stdout",
     "output_type": "stream",
     "text": [
      "Hay valores faltantes\n"
     ]
    }
   ],
   "source": [
    "valores_falt = False\n",
    "for i in dicc_emisiones.values():\n",
    "    if None in i:\n",
    "        valores_falt = True\n",
    "        break\n",
    "    else:\n",
    "        pass\n",
    "if valores_falt == True:\n",
    "    print('Hay valores faltantes')\n",
    "else:\n",
    "    print('No hay valores faltantes')"
   ]
  },
  {
   "attachments": {},
   "cell_type": "markdown",
   "metadata": {},
   "source": [
    "e) ¿Cuál es el total de emisiones de Co2 para 'América Latina y Caribe' en el año 2010?"
   ]
  },
  {
   "cell_type": "code",
   "execution_count": 102,
   "metadata": {},
   "outputs": [
    {
     "name": "stdout",
     "output_type": "stream",
     "text": [
      "Las emisiones en América Latina y Caribe en 2010 fueron de 1691634.8009999995 kt\n"
     ]
    }
   ],
   "source": [
    "filtro_region = 'América Latina y Caribe'\n",
    "filtro_anio = '2010'\n",
    "emisiones = 0\n",
    "for indice, elemento in enumerate(dicc_emisiones['region']):\n",
    "    if (dicc_emisiones['region'][indice]==filtro_region):\n",
    "        if(dicc_emisiones['anio'][indice]== filtro_anio):\n",
    "            if(dicc_emisiones['co2'][indice]!=None):\n",
    "                emisiones += dicc_emisiones['co2'][indice]\n",
    "print('Las emisiones en', filtro_region, 'en', filtro_anio, 'fueron de', emisiones, 'kt')"
   ]
  }
 ],
 "metadata": {
  "kernelspec": {
   "display_name": "Python 3.10.7 64-bit",
   "language": "python",
   "name": "python3"
  },
  "language_info": {
   "codemirror_mode": {
    "name": "ipython",
    "version": 3
   },
   "file_extension": ".py",
   "mimetype": "text/x-python",
   "name": "python",
   "nbconvert_exporter": "python",
   "pygments_lexer": "ipython3",
   "version": "3.10.7"
  },
  "orig_nbformat": 4,
  "vscode": {
   "interpreter": {
    "hash": "3ef525aed409cc5a13783047c8d4d090b051bbc20387ad523d849e44a70e3fe1"
   }
  }
 },
 "nbformat": 4,
 "nbformat_minor": 2
}
